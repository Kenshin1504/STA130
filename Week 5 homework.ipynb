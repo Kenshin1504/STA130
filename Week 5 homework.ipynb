{
 "cells": [
  {
   "cell_type": "markdown",
   "id": "1051007a",
   "metadata": {},
   "source": [
    "**Question 1**\n",
    "\n",
    "**What is the key difference between ideas that can, and cannot be examined and tested statistically? What would you describe are the key \"criteria\" defining what a good null hypothesis is? And what is the difference between a null hypothesis and an alternative hypothesis in the context of hypothesis testing?**"
   ]
  },
  {
   "cell_type": "markdown",
   "id": "35c49b8f",
   "metadata": {},
   "source": [
    "The key factor that determines whether an idea can be tested statistically is quantifiability. If the idea can be expressed in terms of measurable, observable variables on which data can be collected in a repeatable and reliable way, then statistical testing will be possible. On the other hand, ideas which are expressed with an element of subjectivity or a lack of clarity cannot be examined statistically. \n",
    "\n",
    "A good null hypothesis should be testable. To this end, the null hypothesis needs to be a clear and precise statement about which data can be collected reliably to determine whether the null hypothesis should be rejected or not.\n",
    "\n",
    "The null hypothesis is the statement being tested, usually suggesting that there is no effect or no relationship between variables. It serves as the default assumption, and statistical tests aim to assess whether there is enough evidence to reject this assumption. The alternative hypothesis represents the opposite claim to the null hypothesis. It proposes that there is an effect, a difference, or a relationship. If sufficient evidence is found against the null hypothesis, the alternative hypothesis is supported."
   ]
  },
  {
   "cell_type": "markdown",
   "id": "77f7401e",
   "metadata": {},
   "source": [
    "**Question 2**"
   ]
  },
  {
   "cell_type": "markdown",
   "id": "406a00eb",
   "metadata": {},
   "source": [
    "When we perform statistical tests, our objective is to make conclusions about the whole population, or the entire group of events or items of interest to us, rather than just the small group of empirical data we collected, which is called the sample. These conclusions revolve around population parameters, which are measurable aspects which summarise or describe the population of interest. For instance, if we are testing for the population mean, we should come up with an initial guess about what the population mean could be, since the population mean is a number whose actual value we do not know. We call this guess the null hypothesis, and we are looking to see whether the actual observed data we collected indicates that our guess was not right. For that matter, we establish an alternative hypothesis which states that our guess does not equal the true population mean. These hypotheses form the basis for the test. \n",
    "\n",
    "Once we obtain a sample, we can take all the individual observed values we collected and calculate their average, giving us the sample mean. This sample mean is known as a sample statistic (an aspect of the sample which can be measured and calculated), which is what we ultimately use to make inferences about the plausibility of the null hypothesis. The conclusion of the test is therefore about the population, rather than the sample."
   ]
  },
  {
   "cell_type": "markdown",
   "id": "a12f67d5",
   "metadata": {},
   "source": [
    "**Question 3**\n",
    "\n",
    "The p-value, by definition, is the probability that a statistic is as or more extreme than the observed statistic if the null hypothesis is true. In other words, we are looking to see how unlikely certain events would be to occur under 'normal' circumstances, where the effect or difference we are testing for does not exist. We do this through simulation and obtaining a sampling distribution of the test statistic assuming the null hypothesis is true."
   ]
  },
  {
   "cell_type": "markdown",
   "id": "cefc60f6",
   "metadata": {},
   "source": [
    "**Question 4**"
   ]
  },
  {
   "cell_type": "markdown",
   "id": "f4c10ce9",
   "metadata": {},
   "source": [
    "The null hypothesis is our initial guess about what the value of a population parameter (a measurable aspect of the population) could be. A small p-value indicates that the odds of seeing the observed test statistic, or the quantity derived from the data we actually observed through a sample, are very low under circumstances where the null hypothesis is true. In other words, the smaller the p-value, the more our guess made in the null hypothesis is harder to believe since the observed data would be so unusual that it would be less and less reasonable to claim that the observed data just happened by chance if our initial guess about the population parameter was indeed correct. \n",
    "\n",
    "The calculation of the p-value can be done by generating a sampling distribution of the test statistic (the quantity we are measuring to describe a sample) assuming the null hypothesis is true. The sampling distribution shows the frequency with which different values for the test statistic would be obtained by hypothetically taking independent random samples (of the same size as the original empirical sample) from the population, assuming our initial guess about the population parameter was correct. We then compare these with the actual test statistic we got from the original sample and use the sampling distribution to see how likely it would be get a value for the test statistic as or more extreme than the one we got from the sample. If it is highly unlikely to get such a test statistic, as with a small p-value, then our null hypothesis becomes less credible."
   ]
  },
  {
   "cell_type": "markdown",
   "id": "68bdb67b",
   "metadata": {},
   "source": [
    "**Question 5**"
   ]
  },
  {
   "cell_type": "code",
   "execution_count": 44,
   "id": "c7ff1416",
   "metadata": {},
   "outputs": [
    {
     "name": "stdout",
     "output_type": "stream",
     "text": [
      "Two-tailed P-value: 0.0021\n"
     ]
    }
   ],
   "source": [
    "import numpy as np\n",
    "\n",
    "# Set up parameters\n",
    "n_couples = 124   # total number of couples\n",
    "observed_right_tilts = 80  # observed number of right tilts\n",
    "p_right = 0.5  # probability of tilting right under the null hypothesis\n",
    "n_simulations = 10000  # number of simulations\n",
    "np.random.seed(130)\n",
    "# Run the simulation: flipping a coin 124 times and counting the number of \"right\" tilts\n",
    "simulated_tilts = np.random.binomial(n=n_couples, p=p_right, size=n_simulations)\n",
    "\n",
    "# Calculate the proportion of simulations where the number of right tilts is as extreme as the observed value\n",
    "extreme_count = np.sum((simulated_tilts >= observed_right_tilts) | \n",
    "                       (simulated_tilts <= n_couples - observed_right_tilts))\n",
    "\n",
    "# Calculate the p-value for a two-tailed test\n",
    "p_value_two_tailed = extreme_count / n_simulations\n",
    "\n",
    "print(f\"Two-tailed P-value: {p_value_two_tailed}\")"
   ]
  },
  {
   "cell_type": "markdown",
   "id": "abb87f01",
   "metadata": {},
   "source": [
    "0.001 < p < 0.01, therefore there is strong evidence against H0."
   ]
  },
  {
   "cell_type": "markdown",
   "id": "22a0cfd9",
   "metadata": {},
   "source": [
    "**Question 6**\n",
    "\n",
    "**Can a smaller p-value definitively prove that the null hypothesis is false? Is it possible to definitively prove that Fido (from the \"second pre-lecture video\") is innocent using a p-value? Is it possible to definitively prove that Fido is guilty using a p-value? How low or high does a p-value have to be to definitely prove one or the other?**"
   ]
  },
  {
   "cell_type": "markdown",
   "id": "d9490db3",
   "metadata": {},
   "source": [
    "A p-value cannot definitively prove that the null hypothesis is false. A smaller p-value suggests that the observed data is unlikely under the null hypothesis. However, this does not prove that the null hypothesis is false. It merely indicates that, given the data, the null hypothesis is less probable, and we may reject it based on a pre-set significance level.\n",
    "\n",
    "A p-value alone cannot definitively prove Fido is innocent. If the p-value is large, it indicates weak evidence against the null hypothesis, meaning we do not have enough evidence to reject it. This, however, does not \"prove\" innocence; it simply means we lack strong evidence of guilt. It is possible that we conclude Fido to not be guilty when in fact he indeed was guilty, resulting in a Type II error. Similarly, a low p-value does not prove guilt. A p-value below 0.01 suggests strong evidence against the null hypothesis, but it is still possible that the null hypothesis could be true, and the low p-value occurred by chance, in which case a Type I error is made."
   ]
  },
  {
   "cell_type": "markdown",
   "id": "24c064f7",
   "metadata": {},
   "source": [
    "**Question 7**"
   ]
  },
  {
   "cell_type": "code",
   "execution_count": 5,
   "id": "9e99ab90",
   "metadata": {},
   "outputs": [
    {
     "data": {
      "text/html": [
       "<div>\n",
       "<style scoped>\n",
       "    .dataframe tbody tr th:only-of-type {\n",
       "        vertical-align: middle;\n",
       "    }\n",
       "\n",
       "    .dataframe tbody tr th {\n",
       "        vertical-align: top;\n",
       "    }\n",
       "\n",
       "    .dataframe thead th {\n",
       "        text-align: right;\n",
       "    }\n",
       "</style>\n",
       "<table border=\"1\" class=\"dataframe\">\n",
       "  <thead>\n",
       "    <tr style=\"text-align: right;\">\n",
       "      <th></th>\n",
       "      <th>PatientID</th>\n",
       "      <th>Age</th>\n",
       "      <th>Gender</th>\n",
       "      <th>InitialHealthScore</th>\n",
       "      <th>FinalHealthScore</th>\n",
       "      <th>HealthScoreChange</th>\n",
       "    </tr>\n",
       "  </thead>\n",
       "  <tbody>\n",
       "    <tr>\n",
       "      <th>0</th>\n",
       "      <td>1</td>\n",
       "      <td>45</td>\n",
       "      <td>M</td>\n",
       "      <td>84</td>\n",
       "      <td>86</td>\n",
       "      <td>2</td>\n",
       "    </tr>\n",
       "    <tr>\n",
       "      <th>1</th>\n",
       "      <td>2</td>\n",
       "      <td>34</td>\n",
       "      <td>F</td>\n",
       "      <td>78</td>\n",
       "      <td>86</td>\n",
       "      <td>8</td>\n",
       "    </tr>\n",
       "    <tr>\n",
       "      <th>2</th>\n",
       "      <td>3</td>\n",
       "      <td>29</td>\n",
       "      <td>M</td>\n",
       "      <td>83</td>\n",
       "      <td>80</td>\n",
       "      <td>-3</td>\n",
       "    </tr>\n",
       "    <tr>\n",
       "      <th>3</th>\n",
       "      <td>4</td>\n",
       "      <td>52</td>\n",
       "      <td>F</td>\n",
       "      <td>81</td>\n",
       "      <td>86</td>\n",
       "      <td>5</td>\n",
       "    </tr>\n",
       "    <tr>\n",
       "      <th>4</th>\n",
       "      <td>5</td>\n",
       "      <td>37</td>\n",
       "      <td>M</td>\n",
       "      <td>81</td>\n",
       "      <td>84</td>\n",
       "      <td>3</td>\n",
       "    </tr>\n",
       "    <tr>\n",
       "      <th>5</th>\n",
       "      <td>6</td>\n",
       "      <td>41</td>\n",
       "      <td>F</td>\n",
       "      <td>80</td>\n",
       "      <td>86</td>\n",
       "      <td>6</td>\n",
       "    </tr>\n",
       "    <tr>\n",
       "      <th>6</th>\n",
       "      <td>7</td>\n",
       "      <td>33</td>\n",
       "      <td>M</td>\n",
       "      <td>79</td>\n",
       "      <td>86</td>\n",
       "      <td>7</td>\n",
       "    </tr>\n",
       "    <tr>\n",
       "      <th>7</th>\n",
       "      <td>8</td>\n",
       "      <td>48</td>\n",
       "      <td>F</td>\n",
       "      <td>85</td>\n",
       "      <td>82</td>\n",
       "      <td>-3</td>\n",
       "    </tr>\n",
       "    <tr>\n",
       "      <th>8</th>\n",
       "      <td>9</td>\n",
       "      <td>26</td>\n",
       "      <td>M</td>\n",
       "      <td>76</td>\n",
       "      <td>83</td>\n",
       "      <td>7</td>\n",
       "    </tr>\n",
       "    <tr>\n",
       "      <th>9</th>\n",
       "      <td>10</td>\n",
       "      <td>39</td>\n",
       "      <td>F</td>\n",
       "      <td>83</td>\n",
       "      <td>84</td>\n",
       "      <td>1</td>\n",
       "    </tr>\n",
       "  </tbody>\n",
       "</table>\n",
       "</div>"
      ],
      "text/plain": [
       "   PatientID  Age Gender  InitialHealthScore  FinalHealthScore  \\\n",
       "0          1   45      M                  84                86   \n",
       "1          2   34      F                  78                86   \n",
       "2          3   29      M                  83                80   \n",
       "3          4   52      F                  81                86   \n",
       "4          5   37      M                  81                84   \n",
       "5          6   41      F                  80                86   \n",
       "6          7   33      M                  79                86   \n",
       "7          8   48      F                  85                82   \n",
       "8          9   26      M                  76                83   \n",
       "9         10   39      F                  83                84   \n",
       "\n",
       "   HealthScoreChange  \n",
       "0                  2  \n",
       "1                  8  \n",
       "2                 -3  \n",
       "3                  5  \n",
       "4                  3  \n",
       "5                  6  \n",
       "6                  7  \n",
       "7                 -3  \n",
       "8                  7  \n",
       "9                  1  "
      ]
     },
     "execution_count": 5,
     "metadata": {},
     "output_type": "execute_result"
    }
   ],
   "source": [
    "import pandas as pd\n",
    "\n",
    "patient_data = pd.DataFrame({\n",
    "    \"PatientID\": [1, 2, 3, 4, 5, 6, 7, 8, 9, 10],\n",
    "    \"Age\": [45, 34, 29, 52, 37, 41, 33, 48, 26, 39],\n",
    "    \"Gender\": [\"M\", \"F\", \"M\", \"F\", \"M\", \"F\", \"M\", \"F\", \"M\", \"F\"],\n",
    "    \"InitialHealthScore\": [84, 78, 83, 81, 81, 80, 79, 85, 76, 83],\n",
    "    \"FinalHealthScore\": [86, 86, 80, 86, 84, 86, 86, 82, 83, 84]\n",
    "})\n",
    "patient_data['HealthScoreChange'] = patient_data.FinalHealthScore-patient_data.InitialHealthScore\n",
    "patient_data"
   ]
  },
  {
   "cell_type": "code",
   "execution_count": 48,
   "id": "5f348d9d",
   "metadata": {},
   "outputs": [
    {
     "name": "stdout",
     "output_type": "stream",
     "text": [
      "Number of Simulations: 10000\n",
      "\n",
      "Number of simulated statistics (under HO)\n",
      "that are \"as or more extreme\" than the observed statistic: 561\n",
      "\n",
      "p-value\n",
      "(= simulations \"as or more extreme\" / total simulations): 0.0561\n"
     ]
    }
   ],
   "source": [
    "observed_statistic = (patient_data.HealthScoreChange > 0).mean()\n",
    "simulated_statistics = IncreaseProportionSimulations_underH0random\n",
    "\n",
    "# For a one-sided test (right-tailed), we only care about values greater than or equal to the observed statistic\n",
    "SimStats_as_or_more_extreme_than_ObsStat = simulated_statistics >= observed_statistic\n",
    "\n",
    "# Calculate the p-value\n",
    "p_value = (SimStats_as_or_more_extreme_than_ObsStat).sum() / number_of_simulations\n",
    "\n",
    "# Output the results\n",
    "print(\"Number of Simulations: \", number_of_simulations, \"\\n\\n\",\n",
    "      \"Number of simulated statistics (under HO)\\n\",\n",
    "      'that are \"as or more extreme\" than the observed statistic: ',\n",
    "      SimStats_as_or_more_extreme_than_ObsStat.sum(), \"\\n\\n\",\n",
    "      'p-value\\n(= simulations \"as or more extreme\" / total simulations): ', p_value, sep=\"\")"
   ]
  },
  {
   "cell_type": "markdown",
   "id": "521f883d",
   "metadata": {},
   "source": [
    "**Describe what changed in the code; how this changes the interpretation of the hypothesis test; and whether or not we should indeed expect the p-value to be smaller in the \"one tailed\" versus \"two tailed\" analysis.**"
   ]
  },
  {
   "cell_type": "markdown",
   "id": "704fd9fb",
   "metadata": {},
   "source": [
    "In the original two-tailed test, we checked for values as extreme as the observed statistic in both directions using _abs(simulated_statistics - population_parameter_value_under_H0) >= abs(observed_statistic - population_parameter_value_under_H0)_. This looked at deviations on both sides (left and right) of the hypothesized population parameter. In the one-tailed test, we now check only one direction (right-tailed in this case), comparing simulated_statistics >= observed_statistic. This means we are only interested in simulations where the result is as large or larger than the observed statistic, assuming the null hypothesis is true.\n",
    "\n",
    "A two-tailed test is used when we want to check for deviations in either direction (i.e., the effect could be positive or negative). For example, \"Is there a difference in any direction from the null hypothesis?\" Changing to a one-tailed test means we are now only interested in deviations in one direction (e.g., we're only testing whether the statistic is greater than the hypothesized value). For example, \"Is the health score improvement greater than expected?\"\n",
    "\n",
    "The p-value is expected to be smaller in a one-tailed test compared to a two-tailed test, assuming the observed effect is in the direction of interest. A two-tailed p-value is based on extreme results in both directions (both greater and less than the observed statistic). So, it includes more possible outcomes, making the p-value larger. A one-tailed p-value is based on extreme results in only one direction (either greater or less than the observed statistic, depending on the test). Since we are considering only one side, the probability mass is focused on one tail, leading to a smaller p-value."
   ]
  },
  {
   "cell_type": "markdown",
   "id": "f7893220",
   "metadata": {},
   "source": [
    "**ChatBot session summary:**  \n",
    "\n",
    "Key Criteria for a Good Null Hypothesis:\n",
    "Summary: We discussed the importance of a good null hypothesis (H₀) being precise, testable, and aligned with the data being analyzed. It should assert no effect or no difference, providing a foundation for statistical testing.\n",
    "2. Difference Between Null and Alternative Hypotheses:\n",
    "Summary: The null hypothesis (H₀) claims no effect or difference, while the alternative hypothesis (H₁) suggests that there is an effect or difference. In hypothesis testing, we use the data to assess the likelihood that H₀ is true.\n",
    "3. Population Parameter vs. Sample Statistic:\n",
    "Summary: We clarified that statistical test outcomes refer to the population parameter (e.g., population mean, μ), not just the sample statistic (e.g., sample mean, x̄). Tests use the sample to infer properties about the population.\n",
    "4. Logic Behind P-values:\n",
    "Summary: The logic of p-values is to evaluate how likely the observed data is under the assumption that the null hypothesis is true. A small p-value suggests that the observed data is inconsistent with the null hypothesis, making H₀ seem less reasonable.\n",
    "5. Simulating P-values Using a Coin-flipping Model:\n",
    "Summary: We simulated a p-value for a study on head tilts when couples kiss. The null hypothesis assumed a 50/50 chance of tilting left or right. Using a binomial simulation with 10,000 trials, we computed a p-value of approximately 0.0008, suggesting strong evidence against the null hypothesis.\n",
    "6. Adjusting the Simulation for One-tailed Hypothesis Tests:\n",
    "Summary: You provided code for simulating p-values using a two-tailed test. We adjusted this for a one-tailed test, which checks only one direction of deviation (either greater or less). For a right-tailed test, we used:\n",
    "\n",
    "python\n",
    "Copy code\n",
    "SimStats_as_or_more_extreme_than_ObsStat = simulated_statistics >= observed_statistic\n",
    "The one-tailed test typically results in a smaller p-value compared to the two-tailed test because it focuses on a specific direction (e.g., testing for an increase rather than any deviation).\n",
    "\n",
    "7. Differences Between One-tailed and Two-tailed Tests:\n",
    "Summary: A two-tailed test looks for deviations in either direction (greater or less than expected), while a one-tailed test focuses only on one direction (e.g., only testing for an increase). One-tailed tests often result in smaller p-values if the effect is in the expected direction because they ignore the other side.\n",
    "8. Python Code for One-tailed Hypothesis Test:\n",
    "Summary: We provided Python code to compute p-values for both one-tailed and two-tailed tests. For the one-tailed test, the key was adjusting the comparison to only consider values in one direction of deviation (greater or equal for a right-tailed test).\n",
    "9. Expectation of P-value:\n",
    "Summary: For a one-tailed test, the p-value is expected to be smaller than that of a two-tailed test because it focuses on extreme results in just one direction, while the two-tailed test considers both directions.\n",
    "This summary captures our discussions and adjustments, providing a complete record of our exploration into hypothesis testing, p-values, and simulations.\n",
    "\n",
    "**ChatBot transcript log link:** https://chatgpt.com/share/670d2697-16d4-8012-8225-ccd22c2a5c28"
   ]
  },
  {
   "cell_type": "markdown",
   "id": "2f41be4c",
   "metadata": {},
   "source": [
    "**Question 8**"
   ]
  },
  {
   "cell_type": "markdown",
   "id": "6d960a5a",
   "metadata": {},
   "source": [
    "**_1. Problem Introduction_**"
   ]
  },
  {
   "cell_type": "markdown",
   "id": "809b5647",
   "metadata": {},
   "source": [
    "Fisher's experiment and the experiment with 80 STA130 students both aim to test whether the ability to identify the order of pouring (milk or tea first) is due to skill or chance. However, the population and sample being considered are different. In the case of the experiment with STA130 students, the population consists of all students currently enrolled in STA130 who could potentially taste tea and identify whether the milk or tea was poured first. The sample consists of the 80 STA130 students who participated in the experiment and were each given one cup of tea to taste. \n",
    "\n",
    "The population parameter of interest is the true proportion of all STA130 students who can correctly identify whether the tea or milk was poured first. The test statistic is the sample proportion 0.6125, which represents the proportion of correct responses from the sample of 80 students."
   ]
  },
  {
   "cell_type": "markdown",
   "id": "fceeeb20",
   "metadata": {},
   "source": [
    "**Null and Alternative Hypotheses**"
   ]
  },
  {
   "cell_type": "markdown",
   "id": "7726d326",
   "metadata": {},
   "source": [
    "**H0 : p <= 0.5**\n",
    "\n",
    "**H1 : H0 is false (p > 0.5)**"
   ]
  },
  {
   "cell_type": "markdown",
   "id": "71f96fa8",
   "metadata": {},
   "source": [
    "Under H0, we assume that when students taste tea, they have no special ability to tell whether the milk or tea was poured first. In other words, we think that their guesses are just random, and they would get it right about half the time, just like flipping a fair coin. On the other hand, under H1, we are considering the idea that the students might actually have a knack for knowing whether the milk or tea was poured first, and that they are getting it right more than half the time. If this is true, it suggests they are not just guessing like we assumed under H0."
   ]
  },
  {
   "cell_type": "markdown",
   "id": "c0f34792",
   "metadata": {},
   "source": [
    "**_2. Quantitative Analysis_**"
   ]
  },
  {
   "cell_type": "markdown",
   "id": "25e6ca89",
   "metadata": {},
   "source": [
    "**Methodology**"
   ]
  },
  {
   "attachments": {
    "image.png": {
     "image/png": "[encoded data removed]"
    }
   },
   "cell_type": "markdown",
   "id": "419bf7ad",
   "metadata": {},
   "source": [
    "We will use simulation to generate a sampling distribution of sample proportions under the assumption of H0, and determine the percentage of sample proportions which are as or more extreme than the observed test statistic of 0.6125. Since this is a one-tailed test, we are looking for the percentage of sample proportions which are as large or larger than 0.6125. This will give us the p-value, which will be used to determine the strength of evidence against H0 using the table below. We will set a significance level of 0.05 (5%) for this test. ![image.png](attachment:image.png)"
   ]
  },
  {
   "cell_type": "markdown",
   "id": "2cde15db",
   "metadata": {},
   "source": [
    "The basis for simulation will consist of assuming that students are only randomly guessing whether the milk or the tea came first (p = 0.5). Since there are only 2 possible outcomes (either a student gets it right or gets it wrong), we can use a binomial experiment similar to a coin-flipping model to generate a random sample proportion of students who answer correctly. This sample proportion needs to be based on a binomial experiment with 80 trials, equal to the size of our original sample. This is because we are looking to analyse the variability of the sample statistic with sample size 80 to provide inference regarding the population proportion it correspondingly estimates, and the strength of the evidence it provides depends on the variability of the sample statistic (which in turn depends on the sample size used to construct the statistic). Hence, our simulation also needs to be run with 80 trials to simulate this variability.\n",
    "\n",
    "We will run this binomial experiment 10,000 times to obtain 10,000 simulated sample proportions under H0, giving us the sampling distribution of sample proportions under H0."
   ]
  },
  {
   "cell_type": "code",
   "execution_count": 29,
   "id": "3eab4ded",
   "metadata": {},
   "outputs": [
    {
     "name": "stdout",
     "output_type": "stream",
     "text": [
      "Observed Proportion: 0.6125\n",
      "Number of sample proportions as large or larger than the observed proportion: 291\n",
      "Percentage of Sample Proportions as or more extreme than 0.6125: 2.91%\n"
     ]
    },
    {
     "data": {
      "image/png": "[encoded data removed]",
      "text/plain": [
       "<Figure size 640x480 with 1 Axes>"
      ]
     },
     "metadata": {},
     "output_type": "display_data"
    }
   ],
   "source": [
    "import numpy as np\n",
    "import matplotlib.pyplot as plt\n",
    "\n",
    "n_students = 80  # Original sample size\n",
    "p_null = 0.5    # Proportion under the null hypothesis\n",
    "n_simulations = 10000  # Number of simulations\n",
    "observed_proportion = 49 / 80  # Observed sample proportion\n",
    "np.random.seed(120)\n",
    "# Simulate sample proportions under the null hypothesis\n",
    "sample_proportions = np.random.binomial(n_students, p_null, n_simulations) / n_students\n",
    "\n",
    "# Calculate the percentage of sample proportions as large or larger than the observed proportion\n",
    "extreme_count = np.sum(sample_proportions >= observed_proportion) # Distinguishes our one-tailed test from a two-tailed test\n",
    "percentage_extreme = (extreme_count / n_simulations) * 100\n",
    "\n",
    "# Print the results\n",
    "print(f\"Observed Proportion: {observed_proportion:.4f}\")\n",
    "print(f\"Number of sample proportions as large or larger than the observed proportion: {extreme_count}\")\n",
    "print(f\"Percentage of Sample Proportions as or more extreme than {observed_proportion:.4f}: {percentage_extreme:.2f}%\")\n",
    "\n",
    "# Optional: Plot the sampling distribution\n",
    "plt.hist(sample_proportions, bins=30, edgecolor='black', alpha=0.7)\n",
    "plt.axvline(observed_proportion, color='red', linestyle='dashed', linewidth=2, label='Observed Proportion')\n",
    "plt.title('Sampling Distribution of Sample Proportions under H0')\n",
    "plt.xlabel('Sample Proportion')\n",
    "plt.ylabel('Frequency')\n",
    "plt.legend()\n",
    "plt.savefig('sampling_distribution.png', dpi=300)\n",
    "plt.show()"
   ]
  },
  {
   "cell_type": "markdown",
   "id": "d7a78b35",
   "metadata": {},
   "source": [
    "**_3. Findings and Discussion_**"
   ]
  },
  {
   "cell_type": "markdown",
   "id": "7134ee89",
   "metadata": {},
   "source": [
    "We have determined that the p-value for the observed test statistic is 0.0291. Given the significance level of 0.05 set before the test and the table of p-values above, we reject the null hypothesis. There is moderate evidence against the claim that STA130 students are on average basing their answers about whether the tea or the milk came first through random guessing. In other words, we find it too unlikely at the 5% level of significance that the observed sample statistic happened purely by chance under the assumption set out by H0.\n",
    "\n",
    "The data provides sufficiently significant evidence that students do have some ability to distinguish between cups of tea where the milk was poured first and cups where the tea was poured first. "
   ]
  },
  {
   "cell_type": "markdown",
   "id": "ed60bdd8",
   "metadata": {},
   "source": [
    "**ChatBot transcript log link:** https://chatgpt.com/share/670d4526-d900-8012-bfe8-b9caa586ac3c"
   ]
  }
 ],
 "metadata": {
  "kernelspec": {
   "display_name": "Python 3 (ipykernel)",
   "language": "python",
   "name": "python3"
  },
  "language_info": {
   "codemirror_mode": {
    "name": "ipython",
    "version": 3
   },
   "file_extension": ".py",
   "mimetype": "text/x-python",
   "name": "python",
   "nbconvert_exporter": "python",
   "pygments_lexer": "ipython3",
   "version": "3.11.6"
  }
 },
 "nbformat": 4,
 "nbformat_minor": 5
}
